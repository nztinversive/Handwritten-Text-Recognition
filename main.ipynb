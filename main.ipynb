{
 "cells": [
  {
   "cell_type": "code",
   "execution_count": 8,
   "id": "0a3de0b6-117c-4736-97c1-477146ec8dcb",
   "metadata": {
    "execution": {
     "iopub.execute_input": "2023-04-29T19:20:37.328985Z",
     "iopub.status.busy": "2023-04-29T19:20:37.328706Z",
     "iopub.status.idle": "2023-04-29T19:21:01.977077Z",
     "shell.execute_reply": "2023-04-29T19:21:01.975275Z",
     "shell.execute_reply.started": "2023-04-29T19:20:37.328962Z"
    }
   },
   "outputs": [
    {
     "name": "stderr",
     "output_type": "stream",
     "text": [
      "Some weights of VisionEncoderDecoderModel were not initialized from the model checkpoint at microsoft/trocr-large-handwritten and are newly initialized: ['encoder.pooler.dense.weight', 'encoder.pooler.dense.bias']\n",
      "You should probably TRAIN this model on a down-stream task to be able to use it for predictions and inference.\n",
      "The attention mask and the pad token id were not set. As a consequence, you may observe unexpected behavior. Please pass your input's `attention_mask` to obtain reliable results.\n",
      "Setting `pad_token_id` to `eos_token_id`:2 for open-end generation.\n",
      "The attention mask and the pad token id were not set. As a consequence, you may observe unexpected behavior. Please pass your input's `attention_mask` to obtain reliable results.\n",
      "Setting `pad_token_id` to `eos_token_id`:2 for open-end generation.\n"
     ]
    },
    {
     "name": "stdout",
     "output_type": "stream",
     "text": [
      "Digital text for testphoto2.jpeg: 1961 62\n",
      "Text saved to testphoto2_output.txt\n",
      "\n"
     ]
    },
    {
     "name": "stderr",
     "output_type": "stream",
     "text": [
      "The attention mask and the pad token id were not set. As a consequence, you may observe unexpected behavior. Please pass your input's `attention_mask` to obtain reliable results.\n",
      "Setting `pad_token_id` to `eos_token_id`:2 for open-end generation.\n"
     ]
    },
    {
     "name": "stdout",
     "output_type": "stream",
     "text": [
      "Digital text for testphoto4.jpeg: What is your name?\n",
      "Text saved to testphoto4_output.txt\n",
      "\n"
     ]
    },
    {
     "name": "stderr",
     "output_type": "stream",
     "text": [
      "The attention mask and the pad token id were not set. As a consequence, you may observe unexpected behavior. Please pass your input's `attention_mask` to obtain reliable results.\n",
      "Setting `pad_token_id` to `eos_token_id`:2 for open-end generation.\n"
     ]
    },
    {
     "name": "stdout",
     "output_type": "stream",
     "text": [
      "Digital text for testphoto.jpeg: 1961 62\n",
      "Text saved to testphoto_output.txt\n",
      "\n"
     ]
    },
    {
     "name": "stderr",
     "output_type": "stream",
     "text": [
      "The attention mask and the pad token id were not set. As a consequence, you may observe unexpected behavior. Please pass your input's `attention_mask` to obtain reliable results.\n",
      "Setting `pad_token_id` to `eos_token_id`:2 for open-end generation.\n"
     ]
    },
    {
     "name": "stdout",
     "output_type": "stream",
     "text": [
      "Digital text for testphoto3.jpeg: 0 0\n",
      "Text saved to testphoto3_output.txt\n",
      "\n",
      "Digital text for testphoto5.jpeg: that is your name?\n",
      "Text saved to testphoto5_output.txt\n",
      "\n"
     ]
    }
   ],
   "source": [
    "import os\n",
    "import numpy as np\n",
    "from PIL import Image, ImageOps\n",
    "from transformers import TrOCRProcessor, VisionEncoderDecoderModel\n",
    "\n",
    "processor = TrOCRProcessor.from_pretrained('microsoft/trocr-large-handwritten')\n",
    "model = VisionEncoderDecoderModel.from_pretrained('microsoft/trocr-large-handwritten')\n",
    "\n",
    "def image_to_text(image):\n",
    "    pixel_values = processor(images=image, return_tensors=\"pt\").pixel_values\n",
    "    generated_ids = model.generate(pixel_values)\n",
    "    generated_text = processor.batch_decode(generated_ids, skip_special_tokens=True)[0]\n",
    "    return generated_text\n",
    "\n",
    "def find_ink_bounding_box(image, threshold=200):\n",
    "    gray_image = ImageOps.grayscale(image)\n",
    "    binary_image = gray_image.point(lambda p: p < threshold and 255)  # Black for ink, white for background\n",
    "\n",
    "    ink_pixels = np.where(np.array(binary_image) == 0)\n",
    "    min_x, max_x = np.min(ink_pixels[1]), np.max(ink_pixels[1])\n",
    "    min_y, max_y = np.min(ink_pixels[0]), np.max(ink_pixels[0])\n",
    "\n",
    "    return (min_x, min_y, max_x, max_y)\n",
    "\n",
    "data_folder = \"data\"\n",
    "allowed_extensions = ['.jpg', '.jpeg', '.png']\n",
    "\n",
    "for file in os.listdir(data_folder):\n",
    "    file_path = os.path.join(data_folder, file)\n",
    "    file_name, file_extension = os.path.splitext(file)\n",
    "\n",
    "    if file_extension.lower() in allowed_extensions:\n",
    "        image = Image.open(file_path).convert(\"RGB\")\n",
    "        ink_bounding_box = find_ink_bounding_box(image)\n",
    "        cropped_image = image.crop(ink_bounding_box)\n",
    "\n",
    "        text = image_to_text(cropped_image)\n",
    "        print(f\"Digital text for {file}: {text}\")\n",
    "\n",
    "        output_file = f\"{file_name}_output.txt\"\n",
    "        with open(output_file, \"w\") as f:\n",
    "            f.write(text)\n",
    "        print(f\"Text saved to {output_file}\\n\")\n"
   ]
  }
 ],
 "metadata": {
  "kernelspec": {
   "display_name": "Python 3 (ipykernel)",
   "language": "python",
   "name": "python3"
  },
  "language_info": {
   "codemirror_mode": {
    "name": "ipython",
    "version": 3
   },
   "file_extension": ".py",
   "mimetype": "text/x-python",
   "name": "python",
   "nbconvert_exporter": "python",
   "pygments_lexer": "ipython3",
   "version": "3.9.16"
  }
 },
 "nbformat": 4,
 "nbformat_minor": 5
}
